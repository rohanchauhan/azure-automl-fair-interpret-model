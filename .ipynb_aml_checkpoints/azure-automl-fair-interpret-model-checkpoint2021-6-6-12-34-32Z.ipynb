{
  "cells": [
    {
      "cell_type": "markdown",
      "source": [
        "# Azure AutoML Fair & Interpretable Model\r\n",
        "We are using credit risk modelling dataset from Kaggle for the task. In this project, we train an AutoML model using Azure AutoML and after selecting the model,\r\n",
        " we assess it's fairness and interpretablity."
      ],
      "metadata": {
        "nteract": {
          "transient": {
            "deleting": false
          }
        }
      }
    },
    {
      "cell_type": "code",
      "source": [
        "import os\r\n",
        "from azureml.core import Workspace, Datastore, Dataset\r\n"
      ],
      "outputs": [],
      "execution_count": 3,
      "metadata": {
        "collapsed": true,
        "jupyter": {
          "source_hidden": false,
          "outputs_hidden": false
        },
        "nteract": {
          "transient": {
            "deleting": false
          }
        },
        "gather": {
          "logged": 1625571054414
        }
      }
    },
    {
      "cell_type": "code",
      "source": [
        "# Get Workspace\r\n",
        "ws = Workspace.from_config()\r\n",
        "\r\n",
        "datastore_name = 'rohands'\r\n",
        "storage_account_name = 'rohansa'\r\n",
        "container_name ='rohan-blob'\r\n",
        "\r\n",
        "# Get Datastore otherwise create it\r\n",
        "if datastore_name in ws.datastores:\r\n",
        "    blob_ds = Datastore.get(ws, datastore_name=datastore_name)\r\n",
        "else:\r\n",
        "    try:\r\n",
        "        blob_ds = Datastore.register_azure_blob_container(\r\n",
        "            workspace=ws,\r\n",
        "            datastore_name=datastore_name,\r\n",
        "            account_name=storage_account_name,\r\n",
        "            container_name=container_name\r\n",
        "        )\r\n",
        "    except Exception as ex:\r\n",
        "        print(ex)\r\n",
        "\r\n",
        "# Set as Default Datastore\r\n",
        "default_ds = ws.set_default_datastore(datastore_name)\r\n",
        "default_ds = ws.get_default_datastore()\r\n",
        "\r\n",
        "# Get Dataset otherise create it\r\n",
        "dataset_name = 'credit risk dataset'\r\n",
        "\r\n",
        "if dataset_name not in ws.datasets:\r\n",
        "    default_ds.upload_files(\r\n",
        "        files=['./data/credit_risk_dataset.csv'],\r\n",
        "        target_path='/azure/azure-automl-fair-interpret-model/',\r\n",
        "        overwrite=True,\r\n",
        "        show_progress=True)\r\n",
        "    \r\n",
        "    tab_dataset = Dataset.Tabular.from_delimited_files(\r\n",
        "        path=(default_ds,'/azure/azure-automl-fair-interpret-model/data/*.csv'))\r\n",
        "        \r\n",
        "    try:\r\n",
        "        tab_dataset = tab_dataset.register(workspace=ws, \r\n",
        "                                name=dataset_name,\r\n",
        "                                description='credit risk data from Kaggle',\r\n",
        "                                tags = {'format':'CSV'},\r\n",
        "                                create_new_version=True)\r\n",
        "        print('Dataset registered.')\r\n",
        "    except Exception as ex:\r\n",
        "        print(ex)\r\n",
        "else:\r\n",
        "    tab_dataset = Dataset.get(ws, dataset_name=dataset_name)\r\n",
        "    print('Dataset already registered.')"
      ],
      "outputs": [
        {
          "output_type": "error",
          "ename": "UserErrorException",
          "evalue": "UserErrorException:\n\tMessage: './data/credit_risk_dataset.csv' does not point to a file. Please upload the file to cloud first if running in a cloud notebook.\n\tInnerException None\n\tErrorResponse \n{\n    \"error\": {\n        \"code\": \"UserError\",\n        \"message\": \"'./data/credit_risk_dataset.csv' does not point to a file. Please upload the file to cloud first if running in a cloud notebook.\"\n    }\n}",
          "traceback": [
            "\u001b[0;31m---------------------------------------------------------------------------\u001b[0m",
            "\u001b[0;31mUserErrorException\u001b[0m                        Traceback (most recent call last)",
            "\u001b[0;32m<ipython-input-14-7e8eb1fb1dc1>\u001b[0m in \u001b[0;36m<module>\u001b[0;34m\u001b[0m\n\u001b[1;32m     32\u001b[0m         \u001b[0mtarget_path\u001b[0m\u001b[0;34m=\u001b[0m\u001b[0;34m'/azure/azure-automl-fair-interpret-model/'\u001b[0m\u001b[0;34m,\u001b[0m\u001b[0;34m\u001b[0m\u001b[0;34m\u001b[0m\u001b[0m\n\u001b[1;32m     33\u001b[0m         \u001b[0moverwrite\u001b[0m\u001b[0;34m=\u001b[0m\u001b[0;32mTrue\u001b[0m\u001b[0;34m,\u001b[0m\u001b[0;34m\u001b[0m\u001b[0;34m\u001b[0m\u001b[0m\n\u001b[0;32m---> 34\u001b[0;31m         show_progress=True)\n\u001b[0m\u001b[1;32m     35\u001b[0m \u001b[0;34m\u001b[0m\u001b[0m\n\u001b[1;32m     36\u001b[0m     tab_dataset = Dataset.Tabular.from_delimited_files(\n",
            "\u001b[0;32m/anaconda/envs/azureml_py36/lib/python3.6/site-packages/azureml/data/azure_storage_datastore.py\u001b[0m in \u001b[0;36mupload_files\u001b[0;34m(self, files, relative_root, target_path, overwrite, show_progress)\u001b[0m\n\u001b[1;32m    781\u001b[0m         \u001b[0mrelative_root\u001b[0m \u001b[0;34m=\u001b[0m \u001b[0mrelative_root\u001b[0m \u001b[0;32mor\u001b[0m \u001b[0mcommon_path\u001b[0m\u001b[0;34m(\u001b[0m\u001b[0mfiles\u001b[0m\u001b[0;34m)\u001b[0m\u001b[0;34m\u001b[0m\u001b[0;34m\u001b[0m\u001b[0m\n\u001b[1;32m    782\u001b[0m         count = self._start_upload_task(\n\u001b[0;32m--> 783\u001b[0;31m             \u001b[0mself\u001b[0m\u001b[0;34m.\u001b[0m\u001b[0m_get_upload_from_files\u001b[0m\u001b[0;34m(\u001b[0m\u001b[0mfiles\u001b[0m\u001b[0;34m,\u001b[0m \u001b[0mtarget_path\u001b[0m\u001b[0;34m,\u001b[0m \u001b[0mrelative_root\u001b[0m\u001b[0;34m,\u001b[0m \u001b[0;32mFalse\u001b[0m\u001b[0;34m)\u001b[0m\u001b[0;34m,\u001b[0m\u001b[0;34m\u001b[0m\u001b[0;34m\u001b[0m\u001b[0m\n\u001b[0m\u001b[1;32m    784\u001b[0m             \u001b[0moverwrite\u001b[0m\u001b[0;34m,\u001b[0m\u001b[0;34m\u001b[0m\u001b[0;34m\u001b[0m\u001b[0m\n\u001b[1;32m    785\u001b[0m             \u001b[0;32mlambda\u001b[0m \u001b[0mtarget_file_path\u001b[0m\u001b[0;34m:\u001b[0m \u001b[0mself\u001b[0m\u001b[0;34m.\u001b[0m\u001b[0mblob_service\u001b[0m\u001b[0;34m.\u001b[0m\u001b[0mexists\u001b[0m\u001b[0;34m(\u001b[0m\u001b[0mself\u001b[0m\u001b[0;34m.\u001b[0m\u001b[0mcontainer_name\u001b[0m\u001b[0;34m,\u001b[0m \u001b[0mtarget_file_path\u001b[0m\u001b[0;34m)\u001b[0m\u001b[0;34m,\u001b[0m\u001b[0;34m\u001b[0m\u001b[0;34m\u001b[0m\u001b[0m\n",
            "\u001b[0;32m/anaconda/envs/azureml_py36/lib/python3.6/site-packages/azureml/data/azure_storage_datastore.py\u001b[0m in \u001b[0;36m_get_upload_from_files\u001b[0;34m(self, file_paths, target_path, relative_root, skip_root_check)\u001b[0m\n\u001b[1;32m    270\u001b[0m                 \u001b[0merr_msg\u001b[0m \u001b[0;34m=\u001b[0m \u001b[0;34m\"'{}' does not point to a file. \"\u001b[0m \u001b[0;34m+\u001b[0m\u001b[0;31m \u001b[0m\u001b[0;31m\\\u001b[0m\u001b[0;34m\u001b[0m\u001b[0;34m\u001b[0m\u001b[0m\n\u001b[1;32m    271\u001b[0m                     \u001b[0;34m\"Please upload the file to cloud first if running in a cloud notebook.\"\u001b[0m\u001b[0;34m\u001b[0m\u001b[0;34m\u001b[0m\u001b[0m\n\u001b[0;32m--> 272\u001b[0;31m                 \u001b[0;32mraise\u001b[0m \u001b[0mUserErrorException\u001b[0m\u001b[0;34m(\u001b[0m\u001b[0merr_msg\u001b[0m\u001b[0;34m.\u001b[0m\u001b[0mformat\u001b[0m\u001b[0;34m(\u001b[0m\u001b[0mfile_path\u001b[0m\u001b[0;34m)\u001b[0m\u001b[0;34m)\u001b[0m\u001b[0;34m\u001b[0m\u001b[0;34m\u001b[0m\u001b[0m\n\u001b[0m\u001b[1;32m    273\u001b[0m \u001b[0;34m\u001b[0m\u001b[0m\n\u001b[1;32m    274\u001b[0m             \u001b[0mtarget_file_path\u001b[0m \u001b[0;34m=\u001b[0m \u001b[0mto_unix_path\u001b[0m\u001b[0;34m(\u001b[0m\u001b[0mfile_path\u001b[0m\u001b[0;34m)\u001b[0m\u001b[0;34m\u001b[0m\u001b[0;34m\u001b[0m\u001b[0m\n",
            "\u001b[0;31mUserErrorException\u001b[0m: UserErrorException:\n\tMessage: './data/credit_risk_dataset.csv' does not point to a file. Please upload the file to cloud first if running in a cloud notebook.\n\tInnerException None\n\tErrorResponse \n{\n    \"error\": {\n        \"code\": \"UserError\",\n        \"message\": \"'./data/credit_risk_dataset.csv' does not point to a file. Please upload the file to cloud first if running in a cloud notebook.\"\n    }\n}"
          ]
        }
      ],
      "execution_count": 14,
      "metadata": {
        "collapsed": true,
        "jupyter": {
          "source_hidden": false,
          "outputs_hidden": false
        },
        "nteract": {
          "transient": {
            "deleting": false
          }
        },
        "gather": {
          "logged": 1625571063839
        }
      }
    }
  ],
  "metadata": {
    "kernelspec": {
      "name": "python3-azureml",
      "language": "python",
      "display_name": "Python 3.6 - AzureML"
    },
    "language_info": {
      "name": "python",
      "version": "3.6.9",
      "mimetype": "text/x-python",
      "codemirror_mode": {
        "name": "ipython",
        "version": 3
      },
      "pygments_lexer": "ipython3",
      "nbconvert_exporter": "python",
      "file_extension": ".py"
    },
    "kernel_info": {
      "name": "python3-azureml"
    },
    "nteract": {
      "version": "nteract-front-end@1.0.0"
    },
    "microsoft": {
      "host": {
        "AzureML": {
          "notebookHasBeenCompleted": true
        }
      }
    }
  },
  "nbformat": 4,
  "nbformat_minor": 2
}