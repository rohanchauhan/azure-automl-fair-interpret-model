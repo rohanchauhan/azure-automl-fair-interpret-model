{
  "cells": [
    {
      "cell_type": "markdown",
      "source": [
        "# Azure AutoML Fair & Interpretable Model\r\n",
        "We are using credit risk modelling dataset from Kaggle for the task. In this project, we train an AutoML model using Azure AutoML and after selecting the model,\r\n",
        " we assess it's fairness and interpretablity."
      ],
      "metadata": {
        "nteract": {
          "transient": {
            "deleting": false
          }
        }
      }
    },
    {
      "cell_type": "markdown",
      "source": [
        "#### Install Required Packages"
      ],
      "metadata": {
        "nteract": {
          "transient": {
            "deleting": false
          }
        }
      }
    },
    {
      "cell_type": "code",
      "source": [
        "!pip install --upgrade fairlearn==0.6.2 raiwidgets azureml-contrib-fairness azureml-explain-model azureml-interpret"
      ],
      "outputs": [
        {
          "output_type": "stream",
          "name": "stdout",
          "text": [
            "Requirement already up-to-date: fairlearn==0.6.2 in /anaconda/envs/azureml_py36/lib/python3.6/site-packages (0.6.2)\n",
            "Requirement already up-to-date: raiwidgets in /anaconda/envs/azureml_py36/lib/python3.6/site-packages (0.8.0)\n",
            "Requirement already up-to-date: azureml-contrib-fairness in /anaconda/envs/azureml_py36/lib/python3.6/site-packages (1.32.0)\n",
            "Requirement already up-to-date: azureml-explain-model in /anaconda/envs/azureml_py36/lib/python3.6/site-packages (1.32.0)\n",
            "Requirement already up-to-date: azureml-interpret in /anaconda/envs/azureml_py36/lib/python3.6/site-packages (1.32.0)\n",
            "Requirement already satisfied, skipping upgrade: pandas>=0.25.1 in /anaconda/envs/azureml_py36/lib/python3.6/site-packages (from fairlearn==0.6.2) (0.25.3)\n",
            "Requirement already satisfied, skipping upgrade: numpy>=1.17.2 in /anaconda/envs/azureml_py36/lib/python3.6/site-packages (from fairlearn==0.6.2) (1.18.5)\n",
            "Requirement already satisfied, skipping upgrade: scikit-learn>=0.22.1 in /anaconda/envs/azureml_py36/lib/python3.6/site-packages (from fairlearn==0.6.2) (0.22.2.post1)\n",
            "Requirement already satisfied, skipping upgrade: scipy>=1.4.1 in /anaconda/envs/azureml_py36/lib/python3.6/site-packages (from fairlearn==0.6.2) (1.5.2)\n",
            "Requirement already satisfied, skipping upgrade: erroranalysis>=0.1.8 in /anaconda/envs/azureml_py36/lib/python3.6/site-packages (from raiwidgets) (0.1.8)\n",
            "Requirement already satisfied, skipping upgrade: ipython==7.16.1 in /anaconda/envs/azureml_py36/lib/python3.6/site-packages (from raiwidgets) (7.16.1)\n",
            "Requirement already satisfied, skipping upgrade: rai-core-flask==0.2.2 in /anaconda/envs/azureml_py36/lib/python3.6/site-packages (from raiwidgets) (0.2.2)\n",
            "Requirement already satisfied, skipping upgrade: lightgbm>=2.0.11 in /anaconda/envs/azureml_py36/lib/python3.6/site-packages (from raiwidgets) (2.3.0)\n",
            "Requirement already satisfied, skipping upgrade: responsibleai==0.8.0 in /anaconda/envs/azureml_py36/lib/python3.6/site-packages (from raiwidgets) (0.8.0)\n",
            "Requirement already satisfied, skipping upgrade: jinja2==2.11.3 in /anaconda/envs/azureml_py36/lib/python3.6/site-packages (from raiwidgets) (2.11.3)\n",
            "Requirement already satisfied, skipping upgrade: jsonschema in /anaconda/envs/azureml_py36/lib/python3.6/site-packages (from azureml-contrib-fairness) (3.2.0)\n",
            "Requirement already satisfied, skipping upgrade: azureml-core~=1.32.0 in /anaconda/envs/azureml_py36/lib/python3.6/site-packages (from azureml-contrib-fairness) (1.32.0)\n",
            "Requirement already satisfied, skipping upgrade: interpret-community==0.18.* in /anaconda/envs/azureml_py36/lib/python3.6/site-packages (from azureml-interpret) (0.18.1)\n",
            "Requirement already satisfied, skipping upgrade: pytz>=2017.2 in /anaconda/envs/azureml_py36/lib/python3.6/site-packages (from pandas>=0.25.1->fairlearn==0.6.2) (2021.1)\n",
            "Requirement already satisfied, skipping upgrade: python-dateutil>=2.6.1 in /anaconda/envs/azureml_py36/lib/python3.6/site-packages (from pandas>=0.25.1->fairlearn==0.6.2) (2.8.1)\n",
            "Requirement already satisfied, skipping upgrade: joblib>=0.11 in /anaconda/envs/azureml_py36/lib/python3.6/site-packages (from scikit-learn>=0.22.1->fairlearn==0.6.2) (0.14.1)\n",
            "Requirement already satisfied, skipping upgrade: setuptools>=18.5 in /anaconda/envs/azureml_py36/lib/python3.6/site-packages (from ipython==7.16.1->raiwidgets) (50.3.0)\n",
            "Requirement already satisfied, skipping upgrade: traitlets>=4.2 in /anaconda/envs/azureml_py36/lib/python3.6/site-packages (from ipython==7.16.1->raiwidgets) (4.3.3)\n",
            "Requirement already satisfied, skipping upgrade: pexpect; sys_platform != \"win32\" in /anaconda/envs/azureml_py36/lib/python3.6/site-packages (from ipython==7.16.1->raiwidgets) (4.8.0)\n",
            "Requirement already satisfied, skipping upgrade: prompt-toolkit!=3.0.0,!=3.0.1,<3.1.0,>=2.0.0 in /anaconda/envs/azureml_py36/lib/python3.6/site-packages (from ipython==7.16.1->raiwidgets) (3.0.18)\n",
            "Requirement already satisfied, skipping upgrade: pygments in /anaconda/envs/azureml_py36/lib/python3.6/site-packages (from ipython==7.16.1->raiwidgets) (2.9.0)\n",
            "Requirement already satisfied, skipping upgrade: jedi>=0.10 in /anaconda/envs/azureml_py36/lib/python3.6/site-packages (from ipython==7.16.1->raiwidgets) (0.17.2)\n",
            "Requirement already satisfied, skipping upgrade: decorator in /anaconda/envs/azureml_py36/lib/python3.6/site-packages (from ipython==7.16.1->raiwidgets) (5.0.9)\n",
            "Requirement already satisfied, skipping upgrade: pickleshare in /anaconda/envs/azureml_py36/lib/python3.6/site-packages (from ipython==7.16.1->raiwidgets) (0.7.5)\n",
            "Requirement already satisfied, skipping upgrade: backcall in /anaconda/envs/azureml_py36/lib/python3.6/site-packages (from ipython==7.16.1->raiwidgets) (0.2.0)\n",
            "Requirement already satisfied, skipping upgrade: Flask==1.1.2 in /anaconda/envs/azureml_py36/lib/python3.6/site-packages (from rai-core-flask==0.2.2->raiwidgets) (1.1.2)\n",
            "Requirement already satisfied, skipping upgrade: gevent==20.9.0 in /anaconda/envs/azureml_py36/lib/python3.6/site-packages (from rai-core-flask==0.2.2->raiwidgets) (20.9.0)\n",
            "Requirement already satisfied, skipping upgrade: Flask-Cors==3.0.9 in /anaconda/envs/azureml_py36/lib/python3.6/site-packages (from rai-core-flask==0.2.2->raiwidgets) (3.0.9)\n",
            "Requirement already satisfied, skipping upgrade: greenlet==0.4.17 in /anaconda/envs/azureml_py36/lib/python3.6/site-packages (from rai-core-flask==0.2.2->raiwidgets) (0.4.17)\n",
            "Requirement already satisfied, skipping upgrade: econml==0.12.0b3 in /anaconda/envs/azureml_py36/lib/python3.6/site-packages (from responsibleai==0.8.0->raiwidgets) (0.12.0b3)\n",
            "Requirement already satisfied, skipping upgrade: dice-ml<0.7,>=0.6.1 in /anaconda/envs/azureml_py36/lib/python3.6/site-packages (from responsibleai==0.8.0->raiwidgets) (0.6.1)\n",
            "Requirement already satisfied, skipping upgrade: MarkupSafe>=0.23 in /anaconda/envs/azureml_py36/lib/python3.6/site-packages (from jinja2==2.11.3->raiwidgets) (2.0.1)\n",
            "Requirement already satisfied, skipping upgrade: six>=1.11.0 in /anaconda/envs/azureml_py36/lib/python3.6/site-packages (from jsonschema->azureml-contrib-fairness) (1.16.0)\n",
            "Requirement already satisfied, skipping upgrade: pyrsistent>=0.14.0 in /anaconda/envs/azureml_py36/lib/python3.6/site-packages (from jsonschema->azureml-contrib-fairness) (0.17.3)\n",
            "Requirement already satisfied, skipping upgrade: attrs>=17.4.0 in /anaconda/envs/azureml_py36/lib/python3.6/site-packages (from jsonschema->azureml-contrib-fairness) (21.2.0)\n",
            "Requirement already satisfied, skipping upgrade: importlib-metadata; python_version < \"3.8\" in /anaconda/envs/azureml_py36/lib/python3.6/site-packages (from jsonschema->azureml-contrib-fairness) (4.4.0)\n",
            "Requirement already satisfied, skipping upgrade: jsonpickle<3.0.0 in /anaconda/envs/azureml_py36/lib/python3.6/site-packages (from azureml-core~=1.32.0->azureml-contrib-fairness) (2.0.0)\n",
            "Requirement already satisfied, skipping upgrade: jmespath<1.0.0 in /anaconda/envs/azureml_py36/lib/python3.6/site-packages (from azureml-core~=1.32.0->azureml-contrib-fairness) (0.10.0)\n",
            "Requirement already satisfied, skipping upgrade: PyJWT<3.0.0 in /anaconda/envs/azureml_py36/lib/python3.6/site-packages (from azureml-core~=1.32.0->azureml-contrib-fairness) (2.1.0)\n",
            "Requirement already satisfied, skipping upgrade: contextlib2<1.0.0 in /anaconda/envs/azureml_py36/lib/python3.6/site-packages (from azureml-core~=1.32.0->azureml-contrib-fairness) (0.6.0.post1)\n",
            "Requirement already satisfied, skipping upgrade: cryptography!=1.9,!=2.0.*,!=2.1.*,!=2.2.*,<4.0.0 in /anaconda/envs/azureml_py36/lib/python3.6/site-packages (from azureml-core~=1.32.0->azureml-contrib-fairness) (3.4.7)\n",
            "Requirement already satisfied, skipping upgrade: azure-mgmt-storage<16.0.0,>=1.5.0 in /anaconda/envs/azureml_py36/lib/python3.6/site-packages (from azureml-core~=1.32.0->azureml-contrib-fairness) (11.2.0)\n",
            "Requirement already satisfied, skipping upgrade: azure-mgmt-containerregistry>=2.0.0 in /anaconda/envs/azureml_py36/lib/python3.6/site-packages (from azureml-core~=1.32.0->azureml-contrib-fairness) (8.0.0)\n",
            "Requirement already satisfied, skipping upgrade: ndg-httpsclient<=0.5.1 in /anaconda/envs/azureml_py36/lib/python3.6/site-packages (from azureml-core~=1.32.0->azureml-contrib-fairness) (0.5.1)\n",
            "Requirement already satisfied, skipping upgrade: urllib3<=1.26.5,>=1.23 in /anaconda/envs/azureml_py36/lib/python3.6/site-packages (from azureml-core~=1.32.0->azureml-contrib-fairness) (1.25.11)\n",
            "Requirement already satisfied, skipping upgrade: ruamel.yaml<0.17.5,>=0.15.35 in /anaconda/envs/azureml_py36/lib/python3.6/site-packages (from azureml-core~=1.32.0->azureml-contrib-fairness) (0.17.4)\n",
            "Requirement already satisfied, skipping upgrade: msrestazure<=0.6.4,>=0.4.33 in /anaconda/envs/azureml_py36/lib/python3.6/site-packages (from azureml-core~=1.32.0->azureml-contrib-fairness) (0.6.4)\n",
            "Requirement already satisfied, skipping upgrade: azure-mgmt-authorization<1.0.0,>=0.40.0 in /anaconda/envs/azureml_py36/lib/python3.6/site-packages (from azureml-core~=1.32.0->azureml-contrib-fairness) (0.61.0)\n",
            "Requirement already satisfied, skipping upgrade: backports.tempfile in /anaconda/envs/azureml_py36/lib/python3.6/site-packages (from azureml-core~=1.32.0->azureml-contrib-fairness) (1.0)\n",
            "Requirement already satisfied, skipping upgrade: azure-mgmt-keyvault<10.0.0,>=0.40.0 in /anaconda/envs/azureml_py36/lib/python3.6/site-packages (from azureml-core~=1.32.0->azureml-contrib-fairness) (9.0.0)\n",
            "Requirement already satisfied, skipping upgrade: docker<5.0.0 in /anaconda/envs/azureml_py36/lib/python3.6/site-packages (from azureml-core~=1.32.0->azureml-contrib-fairness) (4.4.4)\n",
            "Requirement already satisfied, skipping upgrade: pathspec<1.0.0 in /anaconda/envs/azureml_py36/lib/python3.6/site-packages (from azureml-core~=1.32.0->azureml-contrib-fairness) (0.8.1)\n",
            "Requirement already satisfied, skipping upgrade: azure-graphrbac<1.0.0,>=0.40.0 in /anaconda/envs/azureml_py36/lib/python3.6/site-packages (from azureml-core~=1.32.0->azureml-contrib-fairness) (0.61.1)\n",
            "Requirement already satisfied, skipping upgrade: azure-mgmt-resource<15.0.0,>=1.2.1 in /anaconda/envs/azureml_py36/lib/python3.6/site-packages (from azureml-core~=1.32.0->azureml-contrib-fairness) (13.0.0)\n",
            "Requirement already satisfied, skipping upgrade: SecretStorage<4.0.0 in /anaconda/envs/azureml_py36/lib/python3.6/site-packages (from azureml-core~=1.32.0->azureml-contrib-fairness) (3.3.1)\n",
            "Requirement already satisfied, skipping upgrade: adal<=1.2.7,>=1.2.0 in /anaconda/envs/azureml_py36/lib/python3.6/site-packages (from azureml-core~=1.32.0->azureml-contrib-fairness) (1.2.7)\n",
            "Requirement already satisfied, skipping upgrade: msrest<1.0.0,>=0.5.1 in /anaconda/envs/azureml_py36/lib/python3.6/site-packages (from azureml-core~=1.32.0->azureml-contrib-fairness) (0.6.21)\n",
            "Requirement already satisfied, skipping upgrade: pyopenssl<21.0.0 in /anaconda/envs/azureml_py36/lib/python3.6/site-packages (from azureml-core~=1.32.0->azureml-contrib-fairness) (20.0.1)\n",
            "Requirement already satisfied, skipping upgrade: requests<3.0.0,>=2.19.1 in /anaconda/envs/azureml_py36/lib/python3.6/site-packages (from azureml-core~=1.32.0->azureml-contrib-fairness) (2.25.1)\n",
            "Requirement already satisfied, skipping upgrade: azure-common<2.0.0,>=1.1.12 in /anaconda/envs/azureml_py36/lib/python3.6/site-packages (from azureml-core~=1.32.0->azureml-contrib-fairness) (1.1.27)\n",
            "Requirement already satisfied, skipping upgrade: shap<=0.39.0,>=0.20.0 in /anaconda/envs/azureml_py36/lib/python3.6/site-packages (from interpret-community==0.18.*->azureml-interpret) (0.34.0)\n",
            "Requirement already satisfied, skipping upgrade: packaging in /anaconda/envs/azureml_py36/lib/python3.6/site-packages (from interpret-community==0.18.*->azureml-interpret) (20.9)\n",
            "Requirement already satisfied, skipping upgrade: interpret-core[required]<=0.2.4,>=0.1.20 in /anaconda/envs/azureml_py36/lib/python3.6/site-packages (from interpret-community==0.18.*->azureml-interpret) (0.2.4)\n",
            "Requirement already satisfied, skipping upgrade: ipython-genutils in /anaconda/envs/azureml_py36/lib/python3.6/site-packages (from traitlets>=4.2->ipython==7.16.1->raiwidgets) (0.2.0)\n",
            "Requirement already satisfied, skipping upgrade: ptyprocess>=0.5 in /anaconda/envs/azureml_py36/lib/python3.6/site-packages (from pexpect; sys_platform != \"win32\"->ipython==7.16.1->raiwidgets) (0.7.0)\n",
            "Requirement already satisfied, skipping upgrade: wcwidth in /anaconda/envs/azureml_py36/lib/python3.6/site-packages (from prompt-toolkit!=3.0.0,!=3.0.1,<3.1.0,>=2.0.0->ipython==7.16.1->raiwidgets) (0.2.5)\n",
            "Requirement already satisfied, skipping upgrade: parso<0.8.0,>=0.7.0 in /anaconda/envs/azureml_py36/lib/python3.6/site-packages (from jedi>=0.10->ipython==7.16.1->raiwidgets) (0.7.1)\n",
            "Requirement already satisfied, skipping upgrade: click>=5.1 in /anaconda/envs/azureml_py36/lib/python3.6/site-packages (from Flask==1.1.2->rai-core-flask==0.2.2->raiwidgets) (8.0.1)\n",
            "Requirement already satisfied, skipping upgrade: itsdangerous>=0.24 in /anaconda/envs/azureml_py36/lib/python3.6/site-packages (from Flask==1.1.2->rai-core-flask==0.2.2->raiwidgets) (2.0.1)\n",
            "Requirement already satisfied, skipping upgrade: Werkzeug>=0.15 in /anaconda/envs/azureml_py36/lib/python3.6/site-packages (from Flask==1.1.2->rai-core-flask==0.2.2->raiwidgets) (1.0.1)\n",
            "Requirement already satisfied, skipping upgrade: zope.interface in /anaconda/envs/azureml_py36/lib/python3.6/site-packages (from gevent==20.9.0->rai-core-flask==0.2.2->raiwidgets) (5.4.0)\n",
            "Requirement already satisfied, skipping upgrade: zope.event in /anaconda/envs/azureml_py36/lib/python3.6/site-packages (from gevent==20.9.0->rai-core-flask==0.2.2->raiwidgets) (4.5.0)\n",
            "Requirement already satisfied, skipping upgrade: sparse in /anaconda/envs/azureml_py36/lib/python3.6/site-packages (from econml==0.12.0b3->responsibleai==0.8.0->raiwidgets) (0.12.0)\n",
            "Requirement already satisfied, skipping upgrade: numba!=0.42.1 in /anaconda/envs/azureml_py36/lib/python3.6/site-packages (from econml==0.12.0b3->responsibleai==0.8.0->raiwidgets) (0.53.1)\n",
            "Requirement already satisfied, skipping upgrade: dowhy in /anaconda/envs/azureml_py36/lib/python3.6/site-packages (from econml==0.12.0b3->responsibleai==0.8.0->raiwidgets) (0.6)\n",
            "Requirement already satisfied, skipping upgrade: statsmodels>=0.10 in /anaconda/envs/azureml_py36/lib/python3.6/site-packages (from econml==0.12.0b3->responsibleai==0.8.0->raiwidgets) (0.10.2)\n",
            "Requirement already satisfied, skipping upgrade: tqdm in /anaconda/envs/azureml_py36/lib/python3.6/site-packages (from dice-ml<0.7,>=0.6.1->responsibleai==0.8.0->raiwidgets) (4.61.0)\n",
            "Requirement already satisfied, skipping upgrade: h5py in /anaconda/envs/azureml_py36/lib/python3.6/site-packages (from dice-ml<0.7,>=0.6.1->responsibleai==0.8.0->raiwidgets) (3.1.0)\n",
            "Requirement already satisfied, skipping upgrade: zipp>=0.5 in /anaconda/envs/azureml_py36/lib/python3.6/site-packages (from importlib-metadata; python_version < \"3.8\"->jsonschema->azureml-contrib-fairness) (3.4.1)\n",
            "Requirement already satisfied, skipping upgrade: typing-extensions>=3.6.4; python_version < \"3.8\" in /anaconda/envs/azureml_py36/lib/python3.6/site-packages (from importlib-metadata; python_version < \"3.8\"->jsonschema->azureml-contrib-fairness) (3.10.0.0)\n",
            "Requirement already satisfied, skipping upgrade: cffi>=1.12 in /anaconda/envs/azureml_py36/lib/python3.6/site-packages (from cryptography!=1.9,!=2.0.*,!=2.1.*,!=2.2.*,<4.0.0->azureml-core~=1.32.0->azureml-contrib-fairness) (1.14.5)\n",
            "Requirement already satisfied, skipping upgrade: azure-mgmt-core<2.0.0,>=1.2.0 in /anaconda/envs/azureml_py36/lib/python3.6/site-packages (from azure-mgmt-containerregistry>=2.0.0->azureml-core~=1.32.0->azureml-contrib-fairness) (1.2.2)\n",
            "Requirement already satisfied, skipping upgrade: pyasn1>=0.1.1 in /anaconda/envs/azureml_py36/lib/python3.6/site-packages (from ndg-httpsclient<=0.5.1->azureml-core~=1.32.0->azureml-contrib-fairness) (0.4.8)\n",
            "Requirement already satisfied, skipping upgrade: ruamel.yaml.clib>=0.1.2; platform_python_implementation == \"CPython\" and python_version < \"3.10\" in /anaconda/envs/azureml_py36/lib/python3.6/site-packages (from ruamel.yaml<0.17.5,>=0.15.35->azureml-core~=1.32.0->azureml-contrib-fairness) (0.2.2)\n",
            "Requirement already satisfied, skipping upgrade: backports.weakref in /anaconda/envs/azureml_py36/lib/python3.6/site-packages (from backports.tempfile->azureml-core~=1.32.0->azureml-contrib-fairness) (1.0.post1)\n",
            "Requirement already satisfied, skipping upgrade: websocket-client>=0.32.0 in /anaconda/envs/azureml_py36/lib/python3.6/site-packages (from docker<5.0.0->azureml-core~=1.32.0->azureml-contrib-fairness) (1.0.1)\n",
            "Requirement already satisfied, skipping upgrade: jeepney>=0.6 in /anaconda/envs/azureml_py36/lib/python3.6/site-packages (from SecretStorage<4.0.0->azureml-core~=1.32.0->azureml-contrib-fairness) (0.6.0)\n",
            "Requirement already satisfied, skipping upgrade: certifi>=2017.4.17 in /anaconda/envs/azureml_py36/lib/python3.6/site-packages (from msrest<1.0.0,>=0.5.1->azureml-core~=1.32.0->azureml-contrib-fairness) (2021.5.30)\n",
            "Requirement already satisfied, skipping upgrade: requests-oauthlib>=0.5.0 in /anaconda/envs/azureml_py36/lib/python3.6/site-packages (from msrest<1.0.0,>=0.5.1->azureml-core~=1.32.0->azureml-contrib-fairness) (1.3.0)\n",
            "Requirement already satisfied, skipping upgrade: isodate>=0.6.0 in /anaconda/envs/azureml_py36/lib/python3.6/site-packages (from msrest<1.0.0,>=0.5.1->azureml-core~=1.32.0->azureml-contrib-fairness) (0.6.0)\n",
            "Requirement already satisfied, skipping upgrade: chardet<5,>=3.0.2 in /anaconda/envs/azureml_py36/lib/python3.6/site-packages (from requests<3.0.0,>=2.19.1->azureml-core~=1.32.0->azureml-contrib-fairness) (4.0.0)\n",
            "Requirement already satisfied, skipping upgrade: idna<3,>=2.5 in /anaconda/envs/azureml_py36/lib/python3.6/site-packages (from requests<3.0.0,>=2.19.1->azureml-core~=1.32.0->azureml-contrib-fairness) (2.10)\n",
            "Requirement already satisfied, skipping upgrade: pyparsing>=2.0.2 in /anaconda/envs/azureml_py36/lib/python3.6/site-packages (from packaging->interpret-community==0.18.*->azureml-interpret) (2.4.7)\n",
            "Requirement already satisfied, skipping upgrade: llvmlite<0.37,>=0.36.0rc1 in /anaconda/envs/azureml_py36/lib/python3.6/site-packages (from numba!=0.42.1->econml==0.12.0b3->responsibleai==0.8.0->raiwidgets) (0.36.0)\n",
            "Requirement already satisfied, skipping upgrade: networkx>=2.0 in /anaconda/envs/azureml_py36/lib/python3.6/site-packages (from dowhy->econml==0.12.0b3->responsibleai==0.8.0->raiwidgets) (2.5.1)\n",
            "Requirement already satisfied, skipping upgrade: sympy>=1.4 in /anaconda/envs/azureml_py36/lib/python3.6/site-packages (from dowhy->econml==0.12.0b3->responsibleai==0.8.0->raiwidgets) (1.8)\n",
            "Requirement already satisfied, skipping upgrade: pydot>=1.4 in /anaconda/envs/azureml_py36/lib/python3.6/site-packages (from dowhy->econml==0.12.0b3->responsibleai==0.8.0->raiwidgets) (1.4.2)\n",
            "Requirement already satisfied, skipping upgrade: patsy>=0.4.0 in /anaconda/envs/azureml_py36/lib/python3.6/site-packages (from statsmodels>=0.10->econml==0.12.0b3->responsibleai==0.8.0->raiwidgets) (0.5.1)\n",
            "Requirement already satisfied, skipping upgrade: cached-property; python_version < \"3.8\" in /anaconda/envs/azureml_py36/lib/python3.6/site-packages (from h5py->dice-ml<0.7,>=0.6.1->responsibleai==0.8.0->raiwidgets) (1.5.2)\n",
            "Requirement already satisfied, skipping upgrade: pycparser in /anaconda/envs/azureml_py36/lib/python3.6/site-packages (from cffi>=1.12->cryptography!=1.9,!=2.0.*,!=2.1.*,!=2.2.*,<4.0.0->azureml-core~=1.32.0->azureml-contrib-fairness) (2.20)\n",
            "Requirement already satisfied, skipping upgrade: azure-core<2.0.0,>=1.9.0 in /anaconda/envs/azureml_py36/lib/python3.6/site-packages (from azure-mgmt-core<2.0.0,>=1.2.0->azure-mgmt-containerregistry>=2.0.0->azureml-core~=1.32.0->azureml-contrib-fairness) (1.14.0)\n",
            "Requirement already satisfied, skipping upgrade: oauthlib>=3.0.0 in /anaconda/envs/azureml_py36/lib/python3.6/site-packages (from requests-oauthlib>=0.5.0->msrest<1.0.0,>=0.5.1->azureml-core~=1.32.0->azureml-contrib-fairness) (3.1.1)\n",
            "Requirement already satisfied, skipping upgrade: mpmath>=0.19 in /anaconda/envs/azureml_py36/lib/python3.6/site-packages (from sympy>=1.4->dowhy->econml==0.12.0b3->responsibleai==0.8.0->raiwidgets) (1.2.1)\n"
          ]
        }
      ],
      "execution_count": 16,
      "metadata": {
        "collapsed": true,
        "jupyter": {
          "source_hidden": false,
          "outputs_hidden": false
        },
        "nteract": {
          "transient": {
            "deleting": false
          }
        }
      }
    },
    {
      "cell_type": "markdown",
      "source": [
        "#### Get Data"
      ],
      "metadata": {
        "nteract": {
          "transient": {
            "deleting": false
          }
        }
      }
    },
    {
      "cell_type": "code",
      "source": [
        "from azureml.core import Workspace, Datastore, Dataset\r\n",
        "\r\n",
        "# Get Workspace\r\n",
        "ws = Workspace.from_config()\r\n",
        "\r\n",
        "# Datastore Params\r\n",
        "datastore_name = 'rohands'\r\n",
        "storage_account_name = 'rohansa'\r\n",
        "container_name ='rohan-blob'\r\n",
        "# account_key = Add your account key for storage account\r\n",
        "\r\n",
        "# Get Datastore otherwise create new datastore and register blob storage\r\n",
        "if datastore_name in ws.datastores:\r\n",
        "    blob_ds = Datastore.get(ws, datastore_name=datastore_name)\r\n",
        "else:\r\n",
        "    try:\r\n",
        "        blob_ds = Datastore.register_azure_blob_container(\r\n",
        "            workspace=ws,\r\n",
        "            datastore_name=datastore_name,\r\n",
        "            account_name=storage_account_name,\r\n",
        "            #account_key = account_key\r\n",
        "            container_name=container_name\r\n",
        "        )\r\n",
        "    except Exception as ex:\r\n",
        "        print(ex)\r\n",
        "\r\n",
        "# Set as Default Datastore\r\n",
        "default_ds = ws.set_default_datastore(datastore_name)\r\n",
        "default_ds = ws.get_default_datastore()\r\n",
        "\r\n",
        "# Get Dataset otherise create new dataset and register\r\n",
        "dataset_name = 'credit risk dataset'\r\n",
        "\r\n",
        "if dataset_name not in ws.datasets:\r\n",
        "    default_ds.upload_files(\r\n",
        "        files=['./data/credit_risk_dataset.csv'],\r\n",
        "        target_path='credit-risk-data/',\r\n",
        "        overwrite=True,\r\n",
        "        show_progress=True)\r\n",
        "    \r\n",
        "    tab_dataset = Dataset.Tabular.from_delimited_files(\r\n",
        "        path=(default_ds,'credit-risk-data/*.csv'))\r\n",
        "        \r\n",
        "    try:\r\n",
        "        tab_dataset = tab_dataset.register(workspace=ws, \r\n",
        "                                name=dataset_name,\r\n",
        "                                description='credit risk data from Kaggle',\r\n",
        "                                tags = {'format':'CSV'},\r\n",
        "                                create_new_version=True)\r\n",
        "        print('Dataset registered.')\r\n",
        "    except Exception as ex:\r\n",
        "        print(ex)\r\n",
        "else:\r\n",
        "    tab_dataset = Dataset.get_by_name(ws, dataset_name)\r\n",
        "    print('Dataset already registered.')\r\n",
        "\r\n",
        "train_ds, test_ds = tab_dataset.random_split(percentage=0.7, seed=999)"
      ],
      "outputs": [
        {
          "output_type": "stream",
          "name": "stdout",
          "text": [
            "Dataset already registered.\n"
          ]
        }
      ],
      "execution_count": 17,
      "metadata": {
        "collapsed": true,
        "jupyter": {
          "source_hidden": false,
          "outputs_hidden": false
        },
        "nteract": {
          "transient": {
            "deleting": false
          }
        },
        "gather": {
          "logged": 1625595664186
        }
      }
    },
    {
      "cell_type": "markdown",
      "source": [
        "##### Compute Target"
      ],
      "metadata": {
        "nteract": {
          "transient": {
            "deleting": false
          }
        }
      }
    },
    {
      "cell_type": "code",
      "source": [
        "from azureml.core.compute import ComputeTarget, AmlCompute\r\n",
        "from azureml.core.compute_target import ComputeTargetException\r\n",
        "\r\n",
        "# Compute params\r\n",
        "compute_name = 'rohan-vm-cluster'\r\n",
        "training_cluster = None\r\n",
        "\r\n",
        "if compute_name in ws.compute_targets:\r\n",
        "    training_cluster = ComputeTarget(ws, compute_name)\r\n",
        "    print(\"Using existing cluster.\")\r\n",
        "else:\r\n",
        "    try:\r\n",
        "        compute_config = AmlCompute.provisioning_configuration(\r\n",
        "            vm_size ='STANDARD_DS11_V2', \r\n",
        "            max_nodes=2 )\r\n",
        "        training_cluster = ComputeTarget.create(ws, compute_name, compute_config)\r\n",
        "        training_cluster.wait_for_completion(show_output=True)\r\n",
        "    except Exception as ex:\r\n",
        "        print(ex)\r\n",
        "    print(\"Cluster created.\")"
      ],
      "outputs": [],
      "execution_count": null,
      "metadata": {
        "collapsed": true,
        "jupyter": {
          "source_hidden": false,
          "outputs_hidden": false
        },
        "nteract": {
          "transient": {
            "deleting": false
          }
        },
        "gather": {
          "logged": 1625595695691
        }
      }
    },
    {
      "cell_type": "markdown",
      "source": [
        "#### Configure and Run AML"
      ],
      "metadata": {
        "nteract": {
          "transient": {
            "deleting": false
          }
        }
      }
    },
    {
      "cell_type": "code",
      "source": [
        "from azureml.train.automl import AutoMLConfig\n",
        "from azureml.core.experiment import Experiment\n",
        "from azureml.widgets import RunDetails\n",
        "\n",
        "# Configuration\n",
        "automl_config = AutoMLConfig(name='Automated Credit Risk Modelling',\n",
        "                             task='classification',\n",
        "                             compute_target=training_cluster,\n",
        "                             training_data = train_ds,\n",
        "                             validation_data = test_ds,\n",
        "                             label_column_name='loan_status',\n",
        "                             iterations=4,\n",
        "                             primary_metric = 'AUC_weighted',\n",
        "                             max_concurrent_iterations=2,\n",
        "                             featurization='auto'\n",
        "                             )\n",
        "\n",
        "\n",
        "# Run the Experiment\n",
        "automl_experiment = Experiment(ws, 'azure-automl-fair-interpret-model')\n",
        "automl_run = automl_experiment.submit(automl_config)\n",
        "RunDetails(automl_run).show()\n",
        "automl_run.wait_for_completion(show_output=True)"
      ],
      "outputs": [],
      "execution_count": null,
      "metadata": {
        "collapsed": true,
        "jupyter": {
          "source_hidden": false,
          "outputs_hidden": false
        },
        "nteract": {
          "transient": {
            "deleting": false
          }
        }
      }
    },
    {
      "cell_type": "markdown",
      "source": [
        "####  Get Best Run"
      ],
      "metadata": {
        "nteract": {
          "transient": {
            "deleting": false
          }
        }
      }
    },
    {
      "cell_type": "markdown",
      "source": [
        "#### Explain Model and Get Feature Importance Values"
      ],
      "metadata": {
        "nteract": {
          "transient": {
            "deleting": false
          }
        }
      }
    },
    {
      "cell_type": "markdown",
      "source": [
        "#### Detect and Mitigate Unfairness"
      ],
      "metadata": {
        "nteract": {
          "transient": {
            "deleting": false
          }
        }
      }
    }
  ],
  "metadata": {
    "kernelspec": {
      "name": "python3-azureml",
      "language": "python",
      "display_name": "Python 3.6 - AzureML"
    },
    "language_info": {
      "name": "python",
      "version": "3.6.9",
      "mimetype": "text/x-python",
      "codemirror_mode": {
        "name": "ipython",
        "version": 3
      },
      "pygments_lexer": "ipython3",
      "nbconvert_exporter": "python",
      "file_extension": ".py"
    },
    "kernel_info": {
      "name": "python3-azureml"
    },
    "nteract": {
      "version": "nteract-front-end@1.0.0"
    },
    "microsoft": {
      "host": {
        "AzureML": {
          "notebookHasBeenCompleted": true
        }
      }
    }
  },
  "nbformat": 4,
  "nbformat_minor": 2
}