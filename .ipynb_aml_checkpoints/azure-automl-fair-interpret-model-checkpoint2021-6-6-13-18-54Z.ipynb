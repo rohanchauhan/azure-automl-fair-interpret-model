{
  "cells": [
    {
      "cell_type": "markdown",
      "source": [
        "# Azure AutoML Fair & Interpretable Model\r\n",
        "We are using credit risk modelling dataset from Kaggle for the task. In this project, we train an AutoML model using Azure AutoML and after selecting the model,\r\n",
        " we assess it's fairness and interpretablity."
      ],
      "metadata": {
        "nteract": {
          "transient": {
            "deleting": false
          }
        }
      }
    },
    {
      "cell_type": "code",
      "source": [
        "import os\r\n",
        "from azureml.core import Workspace, Datastore, Dataset\r\n"
      ],
      "outputs": [],
      "execution_count": 1,
      "metadata": {
        "collapsed": true,
        "jupyter": {
          "source_hidden": false,
          "outputs_hidden": false
        },
        "nteract": {
          "transient": {
            "deleting": false
          }
        },
        "gather": {
          "logged": 1625574876299
        }
      }
    },
    {
      "cell_type": "code",
      "source": [
        "# Get Workspace\r\n",
        "ws = Workspace.from_config()\r\n",
        "\r\n",
        "datastore_name = 'rohands'\r\n",
        "storage_account_name = 'rohansa'\r\n",
        "container_name ='rohan-blob'\r\n",
        "\r\n",
        "# Get Datastore otherwise create it\r\n",
        "if datastore_name in ws.datastores:\r\n",
        "    blob_ds = Datastore.get(ws, datastore_name=datastore_name)\r\n",
        "else:\r\n",
        "    try:\r\n",
        "        blob_ds = Datastore.register_azure_blob_container(\r\n",
        "            workspace=ws,\r\n",
        "            datastore_name=datastore_name,\r\n",
        "            account_name=storage_account_name,\r\n",
        "            #account_key = Add your account key for storage account\r\n",
        "            container_name=container_name\r\n",
        "        )\r\n",
        "    except Exception as ex:\r\n",
        "        print(ex)\r\n",
        "\r\n",
        "# Set as Default Datastore\r\n",
        "default_ds = ws.set_default_datastore(datastore_name)\r\n",
        "default_ds = ws.get_default_datastore()\r\n",
        "\r\n",
        "# Get Dataset otherise create it\r\n",
        "dataset_name = 'credit risk dataset'\r\n",
        "\r\n",
        "if dataset_name not in ws.datasets:\r\n",
        "    default_ds.upload_files(\r\n",
        "        files=['./data/credit_risk_dataset.csv'],\r\n",
        "        target_path='credit-risk-data/',\r\n",
        "        overwrite=True,\r\n",
        "        show_progress=True)\r\n",
        "    \r\n",
        "    tab_dataset = Dataset.Tabular.from_delimited_files(\r\n",
        "        path=(default_ds,'credit-risk-data/*.csv'))\r\n",
        "        \r\n",
        "    try:\r\n",
        "        tab_dataset = tab_dataset.register(workspace=ws, \r\n",
        "                                name=dataset_name,\r\n",
        "                                description='credit risk data from Kaggle',\r\n",
        "                                tags = {'format':'CSV'},\r\n",
        "                                create_new_version=True)\r\n",
        "        print('Dataset registered.')\r\n",
        "    except Exception as ex:\r\n",
        "        print(ex)\r\n",
        "else:\r\n",
        "    tab_dataset = Dataset.get_by_name(ws, dataset_name)\r\n",
        "    print('Dataset already registered.')"
      ],
      "outputs": [
        {
          "output_type": "stream",
          "name": "stdout",
          "text": [
            "Dataset already registered.\n"
          ]
        }
      ],
      "execution_count": 10,
      "metadata": {
        "collapsed": true,
        "jupyter": {
          "source_hidden": false,
          "outputs_hidden": false
        },
        "nteract": {
          "transient": {
            "deleting": false
          }
        },
        "gather": {
          "logged": 1625577296719
        }
      }
    },
    {
      "cell_type": "code",
      "source": [],
      "outputs": [],
      "execution_count": null,
      "metadata": {
        "collapsed": true,
        "jupyter": {
          "source_hidden": false,
          "outputs_hidden": false
        },
        "nteract": {
          "transient": {
            "deleting": false
          }
        }
      }
    }
  ],
  "metadata": {
    "kernelspec": {
      "name": "python3-azureml",
      "language": "python",
      "display_name": "Python 3.6 - AzureML"
    },
    "language_info": {
      "name": "python",
      "version": "3.6.9",
      "mimetype": "text/x-python",
      "codemirror_mode": {
        "name": "ipython",
        "version": 3
      },
      "pygments_lexer": "ipython3",
      "nbconvert_exporter": "python",
      "file_extension": ".py"
    },
    "kernel_info": {
      "name": "python3-azureml"
    },
    "nteract": {
      "version": "nteract-front-end@1.0.0"
    },
    "microsoft": {
      "host": {
        "AzureML": {
          "notebookHasBeenCompleted": true
        }
      }
    }
  },
  "nbformat": 4,
  "nbformat_minor": 2
}